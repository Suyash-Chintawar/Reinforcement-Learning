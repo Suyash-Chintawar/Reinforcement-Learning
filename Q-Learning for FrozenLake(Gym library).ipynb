{
 "cells": [
  {
   "cell_type": "markdown",
   "metadata": {},
   "source": [
    "## FrozenLake-v0 using Q-Learning"
   ]
  },
  {
   "cell_type": "code",
   "execution_count": 3,
   "metadata": {},
   "outputs": [],
   "source": [
    "import gym\n",
    "import numpy as np\n",
    "import time\n",
    "import random\n",
    "from IPython.display import clear_output"
   ]
  },
  {
   "cell_type": "code",
   "execution_count": 2,
   "metadata": {},
   "outputs": [],
   "source": [
    "env=gym.make(\"FrozenLake-v0\")"
   ]
  },
  {
   "cell_type": "code",
   "execution_count": 5,
   "metadata": {},
   "outputs": [
    {
     "name": "stdout",
     "output_type": "stream",
     "text": [
      "[[0. 0. 0. 0.]\n",
      " [0. 0. 0. 0.]\n",
      " [0. 0. 0. 0.]\n",
      " [0. 0. 0. 0.]\n",
      " [0. 0. 0. 0.]\n",
      " [0. 0. 0. 0.]\n",
      " [0. 0. 0. 0.]\n",
      " [0. 0. 0. 0.]\n",
      " [0. 0. 0. 0.]\n",
      " [0. 0. 0. 0.]\n",
      " [0. 0. 0. 0.]\n",
      " [0. 0. 0. 0.]\n",
      " [0. 0. 0. 0.]\n",
      " [0. 0. 0. 0.]\n",
      " [0. 0. 0. 0.]\n",
      " [0. 0. 0. 0.]]\n"
     ]
    }
   ],
   "source": [
    "action_space_size=env.action_space.n\n",
    "state_space_size=env.observation_space.n\n",
    "\n",
    "q_table=np.zeros((state_space_size,action_space_size))\n",
    "print(q_table)"
   ]
  },
  {
   "cell_type": "code",
   "execution_count": 6,
   "metadata": {},
   "outputs": [],
   "source": [
    "num_episodes=10000\n",
    "max_steps_per_episode=100\n",
    "\n",
    "learning_rate=0.1\n",
    "discount_rate=0.99\n",
    "\n",
    "exploration_rate=1\n",
    "max_exploration_rate=1\n",
    "min_exploration_rate=0.01\n",
    "exploration_decay_rate=0.001\n",
    "\n"
   ]
  },
  {
   "cell_type": "code",
   "execution_count": 7,
   "metadata": {},
   "outputs": [
    {
     "name": "stdout",
     "output_type": "stream",
     "text": [
      "********Average reward per thousand episodes********\n",
      "\n",
      "1000 :  0.03900000000000003\n",
      "2000 :  0.19800000000000015\n",
      "3000 :  0.4150000000000003\n",
      "4000 :  0.5560000000000004\n",
      "5000 :  0.6520000000000005\n",
      "6000 :  0.6540000000000005\n",
      "7000 :  0.6650000000000005\n",
      "8000 :  0.6730000000000005\n",
      "9000 :  0.7020000000000005\n",
      "10000 :  0.6940000000000005\n",
      "\n",
      "\n",
      "********Q-table********\n",
      "\n",
      "[[0.55164412 0.4818897  0.50762114 0.48885938]\n",
      " [0.27756013 0.2502388  0.38723351 0.48184268]\n",
      " [0.41137328 0.41554762 0.38692506 0.45822402]\n",
      " [0.28583456 0.17898868 0.33052528 0.4376012 ]\n",
      " [0.58060887 0.37144253 0.44291604 0.3428784 ]\n",
      " [0.         0.         0.         0.        ]\n",
      " [0.16539357 0.16187488 0.33288429 0.15401945]\n",
      " [0.         0.         0.         0.        ]\n",
      " [0.34024375 0.34873552 0.34928448 0.61157793]\n",
      " [0.38408345 0.65781818 0.35237551 0.42429115]\n",
      " [0.58564977 0.40682247 0.21773774 0.29862217]\n",
      " [0.         0.         0.         0.        ]\n",
      " [0.         0.         0.         0.        ]\n",
      " [0.45851287 0.55787441 0.78231547 0.56267285]\n",
      " [0.71563361 0.87448193 0.77340619 0.73623951]\n",
      " [0.         0.         0.         0.        ]]\n"
     ]
    }
   ],
   "source": [
    "rewards_all_episodes=[]\n",
    "for episode in range(num_episodes):\n",
    "    done=False\n",
    "    rewards_current_episode=0\n",
    "    state=env.reset()\n",
    "    \n",
    "    for step in range(max_steps_per_episode):\n",
    "        ran=random.uniform(0,1)\n",
    "        if ran > exploration_rate:\n",
    "            action=np.argmax(q_table[state,:])\n",
    "        else:\n",
    "            action=env.action_space.sample()\n",
    "        new_state,reward,done,info=env.step(action)\n",
    "        q_table[state,action]=((1-learning_rate)*q_table[state,action])+(learning_rate*(reward+discount_rate*np.max(q_table[new_state,:])))\n",
    "        state=new_state\n",
    "        rewards_current_episode+=reward\n",
    "        if done==True:\n",
    "            break\n",
    "            \n",
    "    exploration_rate=(min_exploration_rate)+(max_exploration_rate-min_exploration_rate)*np.exp(-exploration_decay_rate*episode)\n",
    "    rewards_all_episodes.append(rewards_current_episode)\n",
    "    \n",
    "rewards_per_thousand_episodes=np.split(np.array(rewards_all_episodes),num_episodes/1000)\n",
    "count=1000\n",
    "\n",
    "print(\"********Average reward per thousand episodes********\\n\")\n",
    "for r in rewards_per_thousand_episodes:\n",
    "    print(count, \": \", str(sum(r/1000)))\n",
    "    count += 1000\n",
    "    \n",
    "print(\"\\n\\n********Q-table********\\n\")\n",
    "print(q_table)"
   ]
  },
  {
   "cell_type": "code",
   "execution_count": 8,
   "metadata": {},
   "outputs": [
    {
     "name": "stdout",
     "output_type": "stream",
     "text": [
      "  (Down)\n",
      "SFFF\n",
      "FHFH\n",
      "FFFH\n",
      "HFF\u001b[41mG\u001b[0m\n",
      "****You reached the goal!****\n"
     ]
    }
   ],
   "source": [
    "for episode in range(3):\n",
    "    state=env.reset()\n",
    "    done=False\n",
    "    print(\"*****EPISODE \", episode+1, \"*****\\n\\n\\n\\n\")\n",
    "    time.sleep(1)\n",
    "    for step in range(max_steps_per_episode):\n",
    "        clear_output(wait=True)\n",
    "        env.render()\n",
    "        time.sleep(0.3)\n",
    "        action=np.argmax(q_table[state,:])\n",
    "        new_state,reward,done,info=env.step(action)\n",
    "        if done==True:\n",
    "            clear_output(wait=True)\n",
    "            env.render()\n",
    "            if reward==1:\n",
    "                print(\"****You reached the goal!****\")\n",
    "                time.sleep(3)\n",
    "                clear_output(wait=True)\n",
    "            else:\n",
    "                print(\"****You fell through a hole!****\")\n",
    "                time.sleep(3)\n",
    "                clear_output(wait=True)\n",
    "            break\n",
    "        state=new_state\n",
    "env.close()"
   ]
  }
 ],
 "metadata": {
  "kernelspec": {
   "display_name": "Python 3",
   "language": "python",
   "name": "python3"
  },
  "language_info": {
   "codemirror_mode": {
    "name": "ipython",
    "version": 3
   },
   "file_extension": ".py",
   "mimetype": "text/x-python",
   "name": "python",
   "nbconvert_exporter": "python",
   "pygments_lexer": "ipython3",
   "version": "3.8.3"
  }
 },
 "nbformat": 4,
 "nbformat_minor": 4
}
